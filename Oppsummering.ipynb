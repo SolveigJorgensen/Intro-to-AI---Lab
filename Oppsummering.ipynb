{
 "cells": [
  {
   "cell_type": "markdown",
   "metadata": {},
   "source": [
    "### Classificasion models: \n",
    "- K - Nearest Neigbors\n",
    "- Supply Vector Machine Classifier (SVM)\n"
   ]
  },
  {
   "cell_type": "markdown",
   "metadata": {},
   "source": [
    "### Nøkkelord\n",
    "\n",
    "**Evaluere model performance**\n",
    "- Accuracy\n",
    "- Confusion Matrix\n",
    "\t"
   ]
  },
  {
   "cell_type": "markdown",
   "metadata": {},
   "source": []
  }
 ],
 "metadata": {
  "language_info": {
   "name": "python"
  }
 },
 "nbformat": 4,
 "nbformat_minor": 2
}
